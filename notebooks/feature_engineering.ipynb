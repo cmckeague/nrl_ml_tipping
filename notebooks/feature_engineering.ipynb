{
 "cells": [
  {
   "cell_type": "code",
   "execution_count": 1,
   "metadata": {},
   "outputs": [],
   "source": [
    "import pandas as pd\n",
    "import numpy  as np\n",
    "\n",
    "import polars as pl"
   ]
  },
  {
   "cell_type": "code",
   "execution_count": 2,
   "metadata": {},
   "outputs": [],
   "source": [
    "#results = pd.read_parquet('../data/raw/pl_game_results.parquet')"
   ]
  },
  {
   "cell_type": "code",
   "execution_count": 3,
   "metadata": {},
   "outputs": [],
   "source": [
    "results = pl.read_delta('../data/raw/game_results.delta')"
   ]
  },
  {
   "cell_type": "code",
   "execution_count": 4,
   "metadata": {},
   "outputs": [
    {
     "data": {
      "text/html": [
       "<div><style>\n",
       ".dataframe > thead > tr > th,\n",
       ".dataframe > tbody > tr > td {\n",
       "  text-align: right;\n",
       "}\n",
       "</style>\n",
       "<small>shape: (88, 8)</small><table border=\"1\" class=\"dataframe\"><thead><tr><th>season</th><th>round</th><th>venue</th><th>date</th><th>home_team_name</th><th>home_team_points</th><th>away_team_name</th><th>away_team_points</th></tr><tr><td>i64</td><td>i64</td><td>str</td><td>date</td><td>str</td><td>i16</td><td>str</td><td>i16</td></tr></thead><tbody><tr><td>2023</td><td>1</td><td>&quot;CommBank Stadi…</td><td>2023-03-02</td><td>&quot;Eels&quot;</td><td>12</td><td>&quot;Storm&quot;</td><td>16</td></tr><tr><td>2023</td><td>1</td><td>&quot;Sky Stadium, W…</td><td>2023-03-03</td><td>&quot;Warriors&quot;</td><td>20</td><td>&quot;Knights&quot;</td><td>12</td></tr><tr><td>2023</td><td>1</td><td>&quot;BlueBet Stadiu…</td><td>2023-03-03</td><td>&quot;Panthers&quot;</td><td>12</td><td>&quot;Broncos&quot;</td><td>13</td></tr><tr><td>2023</td><td>1</td><td>&quot;4 Pines Park, …</td><td>2023-03-04</td><td>&quot;Sea Eagles&quot;</td><td>31</td><td>&quot;Bulldogs&quot;</td><td>6</td></tr><tr><td>2023</td><td>1</td><td>&quot;Queensland Cou…</td><td>2023-03-04</td><td>&quot;Cowboys&quot;</td><td>19</td><td>&quot;Raiders&quot;</td><td>18</td></tr><tr><td>2023</td><td>1</td><td>&quot;PointsBet Stad…</td><td>2023-03-04</td><td>&quot;Sharks&quot;</td><td>18</td><td>&quot;Rabbitohs&quot;</td><td>27</td></tr><tr><td>2023</td><td>1</td><td>&quot;Suncorp Stadiu…</td><td>2023-03-05</td><td>&quot;Dolphins&quot;</td><td>28</td><td>&quot;Roosters&quot;</td><td>18</td></tr><tr><td>2023</td><td>1</td><td>&quot;Leichhardt Ova…</td><td>2023-03-05</td><td>&quot;Wests Tigers&quot;</td><td>10</td><td>&quot;Titans&quot;</td><td>22</td></tr><tr><td>2023</td><td>2</td><td>&quot;BlueBet Stadiu…</td><td>2023-03-09</td><td>&quot;Panthers&quot;</td><td>16</td><td>&quot;Rabbitohs&quot;</td><td>10</td></tr><tr><td>2023</td><td>2</td><td>&quot;CommBank Stadi…</td><td>2023-03-10</td><td>&quot;Eels&quot;</td><td>26</td><td>&quot;Sharks&quot;</td><td>30</td></tr><tr><td>2023</td><td>2</td><td>&quot;Suncorp Stadiu…</td><td>2023-03-10</td><td>&quot;Broncos&quot;</td><td>28</td><td>&quot;Cowboys&quot;</td><td>16</td></tr><tr><td>2023</td><td>2</td><td>&quot;Allianz Stadiu…</td><td>2023-03-11</td><td>&quot;Roosters&quot;</td><td>20</td><td>&quot;Warriors&quot;</td><td>12</td></tr><tr><td>&hellip;</td><td>&hellip;</td><td>&hellip;</td><td>&hellip;</td><td>&hellip;</td><td>&hellip;</td><td>&hellip;</td><td>&hellip;</td></tr><tr><td>2023</td><td>9</td><td>&quot;4 Pines Park, …</td><td>2023-04-29</td><td>&quot;Sea Eagles&quot;</td><td>10</td><td>&quot;Titans&quot;</td><td>26</td></tr><tr><td>2023</td><td>9</td><td>&quot;Carrington Par…</td><td>2023-04-29</td><td>&quot;Panthers&quot;</td><td>8</td><td>&quot;Wests Tigers&quot;</td><td>12</td></tr><tr><td>2023</td><td>9</td><td>&quot;Mt Smart Stadi…</td><td>2023-04-30</td><td>&quot;Warriors&quot;</td><td>0</td><td>&quot;Roosters&quot;</td><td>14</td></tr><tr><td>2023</td><td>9</td><td>&quot;WIN Stadium, W…</td><td>2023-04-30</td><td>&quot;Dragons&quot;</td><td>16</td><td>&quot;Bulldogs&quot;</td><td>18</td></tr><tr><td>2023</td><td>10</td><td>&quot;Suncorp Stadiu…</td><td>2023-05-05</td><td>&quot;Bulldogs&quot;</td><td>30</td><td>&quot;Raiders&quot;</td><td>34</td></tr><tr><td>2023</td><td>10</td><td>&quot;Suncorp Stadiu…</td><td>2023-05-05</td><td>&quot;Sea Eagles&quot;</td><td>6</td><td>&quot;Broncos&quot;</td><td>32</td></tr><tr><td>2023</td><td>10</td><td>&quot;Suncorp Stadiu…</td><td>2023-05-06</td><td>&quot;Warriors&quot;</td><td>6</td><td>&quot;Panthers&quot;</td><td>18</td></tr><tr><td>2023</td><td>10</td><td>&quot;Suncorp Stadiu…</td><td>2023-05-06</td><td>&quot;Sharks&quot;</td><td>16</td><td>&quot;Dolphins&quot;</td><td>36</td></tr><tr><td>2023</td><td>10</td><td>&quot;Suncorp Stadiu…</td><td>2023-05-06</td><td>&quot;Storm&quot;</td><td>12</td><td>&quot;Rabbitohs&quot;</td><td>28</td></tr><tr><td>2023</td><td>10</td><td>&quot;Suncorp Stadiu…</td><td>2023-05-07</td><td>&quot;Wests Tigers&quot;</td><td>18</td><td>&quot;Dragons&quot;</td><td>16</td></tr><tr><td>2023</td><td>10</td><td>&quot;Suncorp Stadiu…</td><td>2023-05-07</td><td>&quot;Roosters&quot;</td><td>6</td><td>&quot;Cowboys&quot;</td><td>20</td></tr><tr><td>2023</td><td>10</td><td>&quot;Suncorp Stadiu…</td><td>2023-05-07</td><td>&quot;Titans&quot;</td><td>26</td><td>&quot;Eels&quot;</td><td>24</td></tr></tbody></table></div>"
      ],
      "text/plain": [
       "shape: (88, 8)\n",
       "┌────────┬───────┬──────────────┬────────────┬────────────┬────────────┬────────────┬──────────────┐\n",
       "│ season ┆ round ┆ venue        ┆ date       ┆ home_team_ ┆ home_team_ ┆ away_team_ ┆ away_team_po │\n",
       "│ ---    ┆ ---   ┆ ---          ┆ ---        ┆ name       ┆ points     ┆ name       ┆ ints         │\n",
       "│ i64    ┆ i64   ┆ str          ┆ date       ┆ ---        ┆ ---        ┆ ---        ┆ ---          │\n",
       "│        ┆       ┆              ┆            ┆ str        ┆ i16        ┆ str        ┆ i16          │\n",
       "╞════════╪═══════╪══════════════╪════════════╪════════════╪════════════╪════════════╪══════════════╡\n",
       "│ 2023   ┆ 1     ┆ CommBank     ┆ 2023-03-02 ┆ Eels       ┆ 12         ┆ Storm      ┆ 16           │\n",
       "│        ┆       ┆ Stadium,     ┆            ┆            ┆            ┆            ┆              │\n",
       "│        ┆       ┆ Sydney       ┆            ┆            ┆            ┆            ┆              │\n",
       "│ 2023   ┆ 1     ┆ Sky Stadium, ┆ 2023-03-03 ┆ Warriors   ┆ 20         ┆ Knights    ┆ 12           │\n",
       "│        ┆       ┆ Wellington   ┆            ┆            ┆            ┆            ┆              │\n",
       "│ 2023   ┆ 1     ┆ BlueBet      ┆ 2023-03-03 ┆ Panthers   ┆ 12         ┆ Broncos    ┆ 13           │\n",
       "│        ┆       ┆ Stadium,     ┆            ┆            ┆            ┆            ┆              │\n",
       "│        ┆       ┆ Penrith      ┆            ┆            ┆            ┆            ┆              │\n",
       "│ 2023   ┆ 1     ┆ 4 Pines      ┆ 2023-03-04 ┆ Sea Eagles ┆ 31         ┆ Bulldogs   ┆ 6            │\n",
       "│        ┆       ┆ Park, Sydney ┆            ┆            ┆            ┆            ┆              │\n",
       "│ …      ┆ …     ┆ …            ┆ …          ┆ …          ┆ …          ┆ …          ┆ …            │\n",
       "│ 2023   ┆ 10    ┆ Suncorp      ┆ 2023-05-06 ┆ Storm      ┆ 12         ┆ Rabbitohs  ┆ 28           │\n",
       "│        ┆       ┆ Stadium,     ┆            ┆            ┆            ┆            ┆              │\n",
       "│        ┆       ┆ Brisbane     ┆            ┆            ┆            ┆            ┆              │\n",
       "│ 2023   ┆ 10    ┆ Suncorp      ┆ 2023-05-07 ┆ Wests      ┆ 18         ┆ Dragons    ┆ 16           │\n",
       "│        ┆       ┆ Stadium,     ┆            ┆ Tigers     ┆            ┆            ┆              │\n",
       "│        ┆       ┆ Brisbane     ┆            ┆            ┆            ┆            ┆              │\n",
       "│ 2023   ┆ 10    ┆ Suncorp      ┆ 2023-05-07 ┆ Roosters   ┆ 6          ┆ Cowboys    ┆ 20           │\n",
       "│        ┆       ┆ Stadium,     ┆            ┆            ┆            ┆            ┆              │\n",
       "│        ┆       ┆ Brisbane     ┆            ┆            ┆            ┆            ┆              │\n",
       "│ 2023   ┆ 10    ┆ Suncorp      ┆ 2023-05-07 ┆ Titans     ┆ 26         ┆ Eels       ┆ 24           │\n",
       "│        ┆       ┆ Stadium,     ┆            ┆            ┆            ┆            ┆              │\n",
       "│        ┆       ┆ Brisbane     ┆            ┆            ┆            ┆            ┆              │\n",
       "└────────┴───────┴──────────────┴────────────┴────────────┴────────────┴────────────┴──────────────┘"
      ]
     },
     "execution_count": 4,
     "metadata": {},
     "output_type": "execute_result"
    }
   ],
   "source": [
    "results.filter(pl.col('date').dt.year() == 2023).sort('round')"
   ]
  },
  {
   "cell_type": "code",
   "execution_count": 5,
   "metadata": {},
   "outputs": [],
   "source": [
    "#results = results.with_columns(pl.col(\"home_team_points\").cast(pl.Int64))"
   ]
  },
  {
   "cell_type": "code",
   "execution_count": 6,
   "metadata": {},
   "outputs": [],
   "source": [
    "#rdf = results \n",
    "\n",
    "#all_results"
   ]
  },
  {
   "cell_type": "code",
   "execution_count": 7,
   "metadata": {},
   "outputs": [],
   "source": [
    "def result_expander(rdf):\n",
    "    '''\n",
    "    Duplicate results table such that each game has a row where each team is prime and opt.\n",
    "\n",
    "    This creates a dataframe that can be used for creating lagged effects on each team's performance.\n",
    "    '''\n",
    "    results_home = rdf.clone()\n",
    "    results_away = rdf.clone()\n",
    "    results_home = results_home.with_columns(home_away=pl.lit('home'))\n",
    "    results_away = results_away.with_columns(home_away=pl.lit('away'))\n",
    "\n",
    "    home_cols = ['season', 'round', 'venue', 'date', 'prime_team', 'prime_team_points',\n",
    "                    'opt_team', 'opt_team_points', 'home_away']\n",
    "    away_cols = ['season', 'round', 'venue', 'date', 'opt_team', 'opt_team_points',\n",
    "                    'prime_team', 'prime_team_points', 'home_away']\n",
    "    results_home.columns = home_cols\n",
    "    results_away.columns = away_cols\n",
    "\n",
    "    results_home = results_home.select(home_cols)\n",
    "    results_away = results_away.select(home_cols) # this looks weird but is intended to select these columns so that the two dataframes can be concatenated\n",
    "\n",
    "    all_results = pl.concat([results_home, results_away])\n",
    "    all_results = all_results.with_columns(prime_margin=pl.col('prime_team_points') - pl.col('opt_team_points'))\n",
    "    all_results=all_results.with_columns(result=np.sign(pl.col('prime_margin')))\n",
    "    #all_results = all_results.reset_index(drop=True)\n",
    "\n",
    "        ## make categorical things categorical types\n",
    "    all_results=all_results.with_columns(home_away=pl.col('home_away').cast(pl.Categorical))\n",
    "    all_results=all_results.with_columns(venue=pl.col('venue').cast(pl.Categorical))\n",
    "    all_results=all_results.with_columns(prime_team=pl.col('prime_team').cast(pl.Categorical))\n",
    "    all_results=all_results.with_columns(opt_team=pl.col('opt_team').cast(pl.Categorical))\n",
    "    return all_results\n",
    "\n",
    "    \n",
    "def create_features(erdf):\n",
    "    erdf = erdf.sort('prime_team', 'date')\n",
    "    lagged_cols = [f'prime_margin_{i}' for i in range(1,7)]\n",
    "    lags = erdf.groupby('prime_team').agg([pl.col('prime_margin').shift(i).alias(f\"prime_margin_{i}\") for i in range(1,7)]).explode(lagged_cols)\n",
    "    lags = lags.select(*lagged_cols)\n",
    "    l6wm = lags.mean(axis=1).alias('pm_l6w').to_frame()\n",
    "    erdf = pl.concat([erdf, lags, l6wm], how='horizontal')\n",
    "\n",
    "    return erdf"
   ]
  },
  {
   "cell_type": "code",
   "execution_count": 8,
   "metadata": {},
   "outputs": [],
   "source": [
    "unplayed = pl.read_delta(\"../data/raw/unplayed_games.delta\")\n",
    "next_round = unplayed.filter(pl.col('round') == pl.col('round').min())\n",
    "\n",
    "results = pl.concat([results, next_round])"
   ]
  },
  {
   "cell_type": "code",
   "execution_count": 9,
   "metadata": {},
   "outputs": [
    {
     "data": {
      "text/html": [
       "<div><style>\n",
       ".dataframe > thead > tr > th,\n",
       ".dataframe > tbody > tr > td {\n",
       "  text-align: right;\n",
       "}\n",
       "</style>\n",
       "<small>shape: (8, 8)</small><table border=\"1\" class=\"dataframe\"><thead><tr><th>season</th><th>round</th><th>venue</th><th>date</th><th>home_team_name</th><th>home_team_points</th><th>away_team_name</th><th>away_team_points</th></tr><tr><td>i64</td><td>i64</td><td>str</td><td>date</td><td>str</td><td>i16</td><td>str</td><td>i16</td></tr></thead><tbody><tr><td>2023</td><td>11</td><td>&quot;AAMI Park, Mel…</td><td>2023-05-11</td><td>&quot;Storm&quot;</td><td>null</td><td>&quot;Broncos&quot;</td><td>null</td></tr><tr><td>2023</td><td>11</td><td>&quot;Accor Stadium,…</td><td>2023-05-12</td><td>&quot;Bulldogs&quot;</td><td>null</td><td>&quot;Warriors&quot;</td><td>null</td></tr><tr><td>2023</td><td>11</td><td>&quot;BlueBet Stadiu…</td><td>2023-05-12</td><td>&quot;Panthers&quot;</td><td>null</td><td>&quot;Roosters&quot;</td><td>null</td></tr><tr><td>2023</td><td>11</td><td>&quot;Accor Stadium,…</td><td>2023-05-13</td><td>&quot;Rabbitohs&quot;</td><td>null</td><td>&quot;Wests Tigers&quot;</td><td>null</td></tr><tr><td>2023</td><td>11</td><td>&quot;Queensland Cou…</td><td>2023-05-13</td><td>&quot;Cowboys&quot;</td><td>null</td><td>&quot;Dragons&quot;</td><td>null</td></tr><tr><td>2023</td><td>11</td><td>&quot;GIO Stadium, C…</td><td>2023-05-13</td><td>&quot;Raiders&quot;</td><td>null</td><td>&quot;Eels&quot;</td><td>null</td></tr><tr><td>2023</td><td>11</td><td>&quot;McDonald Jones…</td><td>2023-05-14</td><td>&quot;Knights&quot;</td><td>null</td><td>&quot;Titans&quot;</td><td>null</td></tr><tr><td>2023</td><td>11</td><td>&quot;4 Pines Park, …</td><td>2023-05-14</td><td>&quot;Sea Eagles&quot;</td><td>null</td><td>&quot;Sharks&quot;</td><td>null</td></tr></tbody></table></div>"
      ],
      "text/plain": [
       "shape: (8, 8)\n",
       "┌────────┬───────┬──────────────┬────────────┬────────────┬────────────┬────────────┬──────────────┐\n",
       "│ season ┆ round ┆ venue        ┆ date       ┆ home_team_ ┆ home_team_ ┆ away_team_ ┆ away_team_po │\n",
       "│ ---    ┆ ---   ┆ ---          ┆ ---        ┆ name       ┆ points     ┆ name       ┆ ints         │\n",
       "│ i64    ┆ i64   ┆ str          ┆ date       ┆ ---        ┆ ---        ┆ ---        ┆ ---          │\n",
       "│        ┆       ┆              ┆            ┆ str        ┆ i16        ┆ str        ┆ i16          │\n",
       "╞════════╪═══════╪══════════════╪════════════╪════════════╪════════════╪════════════╪══════════════╡\n",
       "│ 2023   ┆ 11    ┆ AAMI Park,   ┆ 2023-05-11 ┆ Storm      ┆ null       ┆ Broncos    ┆ null         │\n",
       "│        ┆       ┆ Melbourne    ┆            ┆            ┆            ┆            ┆              │\n",
       "│ 2023   ┆ 11    ┆ Accor        ┆ 2023-05-12 ┆ Bulldogs   ┆ null       ┆ Warriors   ┆ null         │\n",
       "│        ┆       ┆ Stadium,     ┆            ┆            ┆            ┆            ┆              │\n",
       "│        ┆       ┆ Sydney       ┆            ┆            ┆            ┆            ┆              │\n",
       "│ 2023   ┆ 11    ┆ BlueBet      ┆ 2023-05-12 ┆ Panthers   ┆ null       ┆ Roosters   ┆ null         │\n",
       "│        ┆       ┆ Stadium,     ┆            ┆            ┆            ┆            ┆              │\n",
       "│        ┆       ┆ Penrith      ┆            ┆            ┆            ┆            ┆              │\n",
       "│ 2023   ┆ 11    ┆ Accor        ┆ 2023-05-13 ┆ Rabbitohs  ┆ null       ┆ Wests      ┆ null         │\n",
       "│        ┆       ┆ Stadium,     ┆            ┆            ┆            ┆ Tigers     ┆              │\n",
       "│        ┆       ┆ Sydney       ┆            ┆            ┆            ┆            ┆              │\n",
       "│ 2023   ┆ 11    ┆ Queensland   ┆ 2023-05-13 ┆ Cowboys    ┆ null       ┆ Dragons    ┆ null         │\n",
       "│        ┆       ┆ Country Bank ┆            ┆            ┆            ┆            ┆              │\n",
       "│        ┆       ┆ Stadium,…    ┆            ┆            ┆            ┆            ┆              │\n",
       "│ 2023   ┆ 11    ┆ GIO Stadium, ┆ 2023-05-13 ┆ Raiders    ┆ null       ┆ Eels       ┆ null         │\n",
       "│        ┆       ┆ Canberra     ┆            ┆            ┆            ┆            ┆              │\n",
       "│ 2023   ┆ 11    ┆ McDonald     ┆ 2023-05-14 ┆ Knights    ┆ null       ┆ Titans     ┆ null         │\n",
       "│        ┆       ┆ Jones        ┆            ┆            ┆            ┆            ┆              │\n",
       "│        ┆       ┆ Stadium,     ┆            ┆            ┆            ┆            ┆              │\n",
       "│        ┆       ┆ Newcastl…    ┆            ┆            ┆            ┆            ┆              │\n",
       "│ 2023   ┆ 11    ┆ 4 Pines      ┆ 2023-05-14 ┆ Sea Eagles ┆ null       ┆ Sharks     ┆ null         │\n",
       "│        ┆       ┆ Park, Sydney ┆            ┆            ┆            ┆            ┆              │\n",
       "└────────┴───────┴──────────────┴────────────┴────────────┴────────────┴────────────┴──────────────┘"
      ]
     },
     "execution_count": 9,
     "metadata": {},
     "output_type": "execute_result"
    }
   ],
   "source": [
    "next_round"
   ]
  },
  {
   "cell_type": "code",
   "execution_count": 10,
   "metadata": {},
   "outputs": [],
   "source": [
    "expanded_results = result_expander(results)\n",
    "feature_df = create_features(expanded_results)"
   ]
  },
  {
   "cell_type": "code",
   "execution_count": 11,
   "metadata": {},
   "outputs": [
    {
     "data": {
      "text/html": [
       "<div><style>\n",
       ".dataframe > thead > tr > th,\n",
       ".dataframe > tbody > tr > td {\n",
       "  text-align: right;\n",
       "}\n",
       "</style>\n",
       "<small>shape: (8, 18)</small><table border=\"1\" class=\"dataframe\"><thead><tr><th>season</th><th>round</th><th>venue</th><th>date</th><th>prime_team</th><th>prime_team_points</th><th>opt_team</th><th>opt_team_points</th><th>home_away</th><th>prime_margin</th><th>result</th><th>prime_margin_1</th><th>prime_margin_2</th><th>prime_margin_3</th><th>prime_margin_4</th><th>prime_margin_5</th><th>prime_margin_6</th><th>pm_l6w</th></tr><tr><td>i64</td><td>i64</td><td>cat</td><td>date</td><td>cat</td><td>i16</td><td>cat</td><td>i16</td><td>cat</td><td>i16</td><td>i16</td><td>i16</td><td>i16</td><td>i16</td><td>i16</td><td>i16</td><td>i16</td><td>f64</td></tr></thead><tbody><tr><td>2019</td><td>17</td><td>&quot;Suncorp Stadiu…</td><td>2019-07-13</td><td>&quot;Warriors&quot;</td><td>18</td><td>&quot;Broncos&quot;</td><td>18</td><td>&quot;away&quot;</td><td>0</td><td>0</td><td>4</td><td>-1</td><td>4</td><td>-22</td><td>-6</td><td>20</td><td>-0.166667</td></tr><tr><td>2020</td><td>3</td><td>&quot;Campbelltown S…</td><td>2020-05-31</td><td>&quot;Knights&quot;</td><td>14</td><td>&quot;Panthers&quot;</td><td>14</td><td>&quot;away&quot;</td><td>0</td><td>0</td><td>18</td><td>20</td><td>-44</td><td>34</td><td>-42</td><td>36</td><td>3.666667</td></tr><tr><td>2023</td><td>5</td><td>&quot;Glen Willow Ov…</td><td>2023-04-01</td><td>&quot;Knights&quot;</td><td>32</td><td>&quot;Sea Eagles&quot;</td><td>32</td><td>&quot;away&quot;</td><td>0</td><td>0</td><td>10</td><td>-16</td><td>2</td><td>-8</td><td>-22</td><td>-10</td><td>-7.333333</td></tr><tr><td>2023</td><td>5</td><td>&quot;Glen Willow Ov…</td><td>2023-04-01</td><td>&quot;Knights&quot;</td><td>32</td><td>&quot;Sea Eagles&quot;</td><td>32</td><td>&quot;away&quot;</td><td>0</td><td>0</td><td>0</td><td>10</td><td>-16</td><td>2</td><td>-8</td><td>-22</td><td>-5.666667</td></tr><tr><td>2019</td><td>17</td><td>&quot;Suncorp Stadiu…</td><td>2019-07-13</td><td>&quot;Broncos&quot;</td><td>18</td><td>&quot;Warriors&quot;</td><td>18</td><td>&quot;home&quot;</td><td>0</td><td>0</td><td>2</td><td>-14</td><td>-28</td><td>-8</td><td>6</td><td>5</td><td>-6.166667</td></tr><tr><td>2023</td><td>5</td><td>&quot;Glen Willow Ov…</td><td>2023-04-01</td><td>&quot;Sea Eagles&quot;</td><td>32</td><td>&quot;Knights&quot;</td><td>32</td><td>&quot;home&quot;</td><td>0</td><td>0</td><td>-1</td><td>4</td><td>25</td><td>-1</td><td>-42</td><td>-34</td><td>-8.166667</td></tr><tr><td>2023</td><td>5</td><td>&quot;Glen Willow Ov…</td><td>2023-04-01</td><td>&quot;Sea Eagles&quot;</td><td>32</td><td>&quot;Knights&quot;</td><td>32</td><td>&quot;home&quot;</td><td>0</td><td>0</td><td>0</td><td>-1</td><td>4</td><td>25</td><td>-1</td><td>-42</td><td>-2.5</td></tr><tr><td>2020</td><td>3</td><td>&quot;Campbelltown S…</td><td>2020-05-31</td><td>&quot;Panthers&quot;</td><td>14</td><td>&quot;Knights&quot;</td><td>14</td><td>&quot;home&quot;</td><td>0</td><td>0</td><td>4</td><td>6</td><td>44</td><td>-16</td><td>-14</td><td>-12</td><td>2.0</td></tr></tbody></table></div>"
      ],
      "text/plain": [
       "shape: (8, 18)\n",
       "┌────────┬───────┬─────────────┬────────────┬───┬────────────┬────────────┬────────────┬───────────┐\n",
       "│ season ┆ round ┆ venue       ┆ date       ┆ … ┆ prime_marg ┆ prime_marg ┆ prime_marg ┆ pm_l6w    │\n",
       "│ ---    ┆ ---   ┆ ---         ┆ ---        ┆   ┆ in_4       ┆ in_5       ┆ in_6       ┆ ---       │\n",
       "│ i64    ┆ i64   ┆ cat         ┆ date       ┆   ┆ ---        ┆ ---        ┆ ---        ┆ f64       │\n",
       "│        ┆       ┆             ┆            ┆   ┆ i16        ┆ i16        ┆ i16        ┆           │\n",
       "╞════════╪═══════╪═════════════╪════════════╪═══╪════════════╪════════════╪════════════╪═══════════╡\n",
       "│ 2019   ┆ 17    ┆ Suncorp     ┆ 2019-07-13 ┆ … ┆ -22        ┆ -6         ┆ 20         ┆ -0.166667 │\n",
       "│        ┆       ┆ Stadium,    ┆            ┆   ┆            ┆            ┆            ┆           │\n",
       "│        ┆       ┆ Brisbane    ┆            ┆   ┆            ┆            ┆            ┆           │\n",
       "│ 2020   ┆ 3     ┆ Campbelltow ┆ 2020-05-31 ┆ … ┆ 34         ┆ -42        ┆ 36         ┆ 3.666667  │\n",
       "│        ┆       ┆ n Sports    ┆            ┆   ┆            ┆            ┆            ┆           │\n",
       "│        ┆       ┆ Stadium,    ┆            ┆   ┆            ┆            ┆            ┆           │\n",
       "│        ┆       ┆ Syd…        ┆            ┆   ┆            ┆            ┆            ┆           │\n",
       "│ 2023   ┆ 5     ┆ Glen Willow ┆ 2023-04-01 ┆ … ┆ -8         ┆ -22        ┆ -10        ┆ -7.333333 │\n",
       "│        ┆       ┆ Oval,       ┆            ┆   ┆            ┆            ┆            ┆           │\n",
       "│        ┆       ┆ Mudgee      ┆            ┆   ┆            ┆            ┆            ┆           │\n",
       "│ 2023   ┆ 5     ┆ Glen Willow ┆ 2023-04-01 ┆ … ┆ 2          ┆ -8         ┆ -22        ┆ -5.666667 │\n",
       "│        ┆       ┆ Oval,       ┆            ┆   ┆            ┆            ┆            ┆           │\n",
       "│        ┆       ┆ Mudgee      ┆            ┆   ┆            ┆            ┆            ┆           │\n",
       "│ 2019   ┆ 17    ┆ Suncorp     ┆ 2019-07-13 ┆ … ┆ -8         ┆ 6          ┆ 5          ┆ -6.166667 │\n",
       "│        ┆       ┆ Stadium,    ┆            ┆   ┆            ┆            ┆            ┆           │\n",
       "│        ┆       ┆ Brisbane    ┆            ┆   ┆            ┆            ┆            ┆           │\n",
       "│ 2023   ┆ 5     ┆ Glen Willow ┆ 2023-04-01 ┆ … ┆ -1         ┆ -42        ┆ -34        ┆ -8.166667 │\n",
       "│        ┆       ┆ Oval,       ┆            ┆   ┆            ┆            ┆            ┆           │\n",
       "│        ┆       ┆ Mudgee      ┆            ┆   ┆            ┆            ┆            ┆           │\n",
       "│ 2023   ┆ 5     ┆ Glen Willow ┆ 2023-04-01 ┆ … ┆ 25         ┆ -1         ┆ -42        ┆ -2.5      │\n",
       "│        ┆       ┆ Oval,       ┆            ┆   ┆            ┆            ┆            ┆           │\n",
       "│        ┆       ┆ Mudgee      ┆            ┆   ┆            ┆            ┆            ┆           │\n",
       "│ 2020   ┆ 3     ┆ Campbelltow ┆ 2020-05-31 ┆ … ┆ -16        ┆ -14        ┆ -12        ┆ 2.0       │\n",
       "│        ┆       ┆ n Sports    ┆            ┆   ┆            ┆            ┆            ┆           │\n",
       "│        ┆       ┆ Stadium,    ┆            ┆   ┆            ┆            ┆            ┆           │\n",
       "│        ┆       ┆ Syd…        ┆            ┆   ┆            ┆            ┆            ┆           │\n",
       "└────────┴───────┴─────────────┴────────────┴───┴────────────┴────────────┴────────────┴───────────┘"
      ]
     },
     "execution_count": 11,
     "metadata": {},
     "output_type": "execute_result"
    }
   ],
   "source": [
    "feature_df.filter(pl.col('result')==0)"
   ]
  },
  {
   "cell_type": "code",
   "execution_count": 12,
   "metadata": {},
   "outputs": [],
   "source": [
    "feature_df.write_parquet('../data/raw/features.parquet')"
   ]
  },
  {
   "cell_type": "code",
   "execution_count": 13,
   "metadata": {},
   "outputs": [
    {
     "data": {
      "text/html": [
       "<div><style>\n",
       ".dataframe > thead > tr > th,\n",
       ".dataframe > tbody > tr > td {\n",
       "  text-align: right;\n",
       "}\n",
       "</style>\n",
       "<small>shape: (2048, 18)</small><table border=\"1\" class=\"dataframe\"><thead><tr><th>season</th><th>round</th><th>venue</th><th>date</th><th>prime_team</th><th>prime_team_points</th><th>opt_team</th><th>opt_team_points</th><th>home_away</th><th>prime_margin</th><th>result</th><th>prime_margin_1</th><th>prime_margin_2</th><th>prime_margin_3</th><th>prime_margin_4</th><th>prime_margin_5</th><th>prime_margin_6</th><th>pm_l6w</th></tr><tr><td>i64</td><td>i64</td><td>cat</td><td>date</td><td>cat</td><td>i16</td><td>cat</td><td>i16</td><td>cat</td><td>i16</td><td>i16</td><td>i16</td><td>i16</td><td>i16</td><td>i16</td><td>i16</td><td>i16</td><td>f64</td></tr></thead><tbody><tr><td>2018</td><td>1</td><td>&quot;Optus Stadium,…</td><td>2018-03-10</td><td>&quot;Rabbitohs&quot;</td><td>20</td><td>&quot;Warriors&quot;</td><td>32</td><td>&quot;home&quot;</td><td>-12</td><td>-1</td><td>null</td><td>null</td><td>null</td><td>null</td><td>null</td><td>null</td><td>null</td></tr><tr><td>2018</td><td>1</td><td>&quot;Optus Stadium,…</td><td>2018-03-10</td><td>&quot;Warriors&quot;</td><td>32</td><td>&quot;Rabbitohs&quot;</td><td>20</td><td>&quot;away&quot;</td><td>12</td><td>1</td><td>null</td><td>null</td><td>null</td><td>null</td><td>null</td><td>null</td><td>null</td></tr><tr><td>2018</td><td>1</td><td>&quot;Optus Stadium,…</td><td>2018-03-10</td><td>&quot;Storm&quot;</td><td>36</td><td>&quot;Bulldogs&quot;</td><td>18</td><td>&quot;away&quot;</td><td>18</td><td>1</td><td>null</td><td>null</td><td>null</td><td>null</td><td>null</td><td>null</td><td>null</td></tr><tr><td>2018</td><td>1</td><td>&quot;McDonald Jones…</td><td>2018-03-09</td><td>&quot;Knights&quot;</td><td>19</td><td>&quot;Sea Eagles&quot;</td><td>18</td><td>&quot;home&quot;</td><td>1</td><td>1</td><td>null</td><td>null</td><td>null</td><td>null</td><td>null</td><td>null</td><td>null</td></tr><tr><td>2018</td><td>1</td><td>&quot;Cbus Super Sta…</td><td>2018-03-11</td><td>&quot;Titans&quot;</td><td>30</td><td>&quot;Raiders&quot;</td><td>28</td><td>&quot;home&quot;</td><td>2</td><td>1</td><td>null</td><td>null</td><td>null</td><td>null</td><td>null</td><td>null</td><td>null</td></tr><tr><td>2018</td><td>1</td><td>&quot;Panthers Stadi…</td><td>2018-03-11</td><td>&quot;Eels&quot;</td><td>14</td><td>&quot;Panthers&quot;</td><td>24</td><td>&quot;away&quot;</td><td>-10</td><td>-1</td><td>null</td><td>null</td><td>null</td><td>null</td><td>null</td><td>null</td><td>null</td></tr><tr><td>2018</td><td>1</td><td>&quot;Optus Stadium,…</td><td>2018-03-10</td><td>&quot;Bulldogs&quot;</td><td>18</td><td>&quot;Storm&quot;</td><td>36</td><td>&quot;home&quot;</td><td>-18</td><td>-1</td><td>null</td><td>null</td><td>null</td><td>null</td><td>null</td><td>null</td><td>null</td></tr><tr><td>2018</td><td>1</td><td>&quot;Netstrata Jubi…</td><td>2018-03-08</td><td>&quot;Broncos&quot;</td><td>12</td><td>&quot;Dragons&quot;</td><td>34</td><td>&quot;away&quot;</td><td>-22</td><td>-1</td><td>null</td><td>null</td><td>null</td><td>null</td><td>null</td><td>null</td><td>null</td></tr><tr><td>2018</td><td>1</td><td>&quot;Stadium Austra…</td><td>2018-03-10</td><td>&quot;Wests Tigers&quot;</td><td>10</td><td>&quot;Roosters&quot;</td><td>8</td><td>&quot;home&quot;</td><td>2</td><td>1</td><td>null</td><td>null</td><td>null</td><td>null</td><td>null</td><td>null</td><td>null</td></tr><tr><td>2018</td><td>1</td><td>&quot;1300SMILES Sta…</td><td>2018-03-09</td><td>&quot;Cowboys&quot;</td><td>20</td><td>&quot;Sharks&quot;</td><td>14</td><td>&quot;home&quot;</td><td>6</td><td>1</td><td>null</td><td>null</td><td>null</td><td>null</td><td>null</td><td>null</td><td>null</td></tr><tr><td>2018</td><td>1</td><td>&quot;Cbus Super Sta…</td><td>2018-03-11</td><td>&quot;Raiders&quot;</td><td>28</td><td>&quot;Titans&quot;</td><td>30</td><td>&quot;away&quot;</td><td>-2</td><td>-1</td><td>null</td><td>null</td><td>null</td><td>null</td><td>null</td><td>null</td><td>null</td></tr><tr><td>2018</td><td>1</td><td>&quot;Stadium Austra…</td><td>2018-03-10</td><td>&quot;Roosters&quot;</td><td>8</td><td>&quot;Wests Tigers&quot;</td><td>10</td><td>&quot;away&quot;</td><td>-2</td><td>-1</td><td>null</td><td>null</td><td>null</td><td>null</td><td>null</td><td>null</td><td>null</td></tr><tr><td>&hellip;</td><td>&hellip;</td><td>&hellip;</td><td>&hellip;</td><td>&hellip;</td><td>&hellip;</td><td>&hellip;</td><td>&hellip;</td><td>&hellip;</td><td>&hellip;</td><td>&hellip;</td><td>&hellip;</td><td>&hellip;</td><td>&hellip;</td><td>&hellip;</td><td>&hellip;</td><td>&hellip;</td><td>&hellip;</td></tr><tr><td>2023</td><td>11</td><td>&quot;McDonald Jones…</td><td>2023-05-14</td><td>&quot;Titans&quot;</td><td>null</td><td>&quot;Knights&quot;</td><td>null</td><td>&quot;away&quot;</td><td>null</td><td>null</td><td>2</td><td>16</td><td>-2</td><td>-17</td><td>2</td><td>-12</td><td>-1.833333</td></tr><tr><td>2023</td><td>11</td><td>&quot;GIO Stadium, C…</td><td>2023-05-13</td><td>&quot;Eels&quot;</td><td>null</td><td>&quot;Raiders&quot;</td><td>null</td><td>&quot;away&quot;</td><td>null</td><td>null</td><td>-2</td><td>31</td><td>-10</td><td>26</td><td>6</td><td>-8</td><td>7.166667</td></tr><tr><td>2023</td><td>11</td><td>&quot;Accor Stadium,…</td><td>2023-05-12</td><td>&quot;Bulldogs&quot;</td><td>null</td><td>&quot;Warriors&quot;</td><td>null</td><td>&quot;home&quot;</td><td>null</td><td>null</td><td>-4</td><td>2</td><td>-13</td><td>-26</td><td>-34</td><td>1</td><td>-12.333333</td></tr><tr><td>2023</td><td>11</td><td>&quot;AAMI Park, Mel…</td><td>2023-05-11</td><td>&quot;Broncos&quot;</td><td>null</td><td>&quot;Storm&quot;</td><td>null</td><td>&quot;away&quot;</td><td>null</td><td>null</td><td>26</td><td>-26</td><td>10</td><td>17</td><td>-6</td><td>34</td><td>9.166667</td></tr><tr><td>2023</td><td>11</td><td>&quot;Accor Stadium,…</td><td>2023-05-13</td><td>&quot;Wests Tigers&quot;</td><td>null</td><td>&quot;Rabbitohs&quot;</td><td>null</td><td>&quot;away&quot;</td><td>null</td><td>null</td><td>2</td><td>4</td><td>-6</td><td>-6</td><td>-34</td><td>-34</td><td>-12.333333</td></tr><tr><td>2023</td><td>11</td><td>&quot;Queensland Cou…</td><td>2023-05-13</td><td>&quot;Cowboys&quot;</td><td>null</td><td>&quot;Dragons&quot;</td><td>null</td><td>&quot;home&quot;</td><td>null</td><td>null</td><td>14</td><td>-38</td><td>2</td><td>-8</td><td>-10</td><td>-1</td><td>-6.833333</td></tr><tr><td>2023</td><td>11</td><td>&quot;GIO Stadium, C…</td><td>2023-05-13</td><td>&quot;Raiders&quot;</td><td>null</td><td>&quot;Eels&quot;</td><td>null</td><td>&quot;home&quot;</td><td>null</td><td>null</td><td>4</td><td>1</td><td>6</td><td>6</td><td>-41</td><td>-41</td><td>-10.833333</td></tr><tr><td>2023</td><td>11</td><td>&quot;BlueBet Stadiu…</td><td>2023-05-12</td><td>&quot;Roosters&quot;</td><td>null</td><td>&quot;Panthers&quot;</td><td>null</td><td>&quot;away&quot;</td><td>null</td><td>null</td><td>-14</td><td>14</td><td>1</td><td>-10</td><td>-20</td><td>8</td><td>-3.5</td></tr><tr><td>2023</td><td>11</td><td>&quot;4 Pines Park, …</td><td>2023-05-14</td><td>&quot;Sharks&quot;</td><td>null</td><td>&quot;Sea Eagles&quot;</td><td>null</td><td>&quot;away&quot;</td><td>null</td><td>null</td><td>-20</td><td>38</td><td>13</td><td>10</td><td>-2</td><td>-2</td><td>6.166667</td></tr><tr><td>2023</td><td>11</td><td>&quot;Queensland Cou…</td><td>2023-05-13</td><td>&quot;Dragons&quot;</td><td>null</td><td>&quot;Cowboys&quot;</td><td>null</td><td>&quot;away&quot;</td><td>null</td><td>null</td><td>-2</td><td>-2</td><td>-1</td><td>-6</td><td>-2</td><td>26</td><td>2.166667</td></tr><tr><td>2023</td><td>11</td><td>&quot;4 Pines Park, …</td><td>2023-05-14</td><td>&quot;Sea Eagles&quot;</td><td>null</td><td>&quot;Sharks&quot;</td><td>null</td><td>&quot;home&quot;</td><td>null</td><td>null</td><td>-26</td><td>-16</td><td>6</td><td>10</td><td>-32</td><td>0</td><td>-9.666667</td></tr><tr><td>2023</td><td>11</td><td>&quot;BlueBet Stadiu…</td><td>2023-05-12</td><td>&quot;Panthers&quot;</td><td>null</td><td>&quot;Roosters&quot;</td><td>null</td><td>&quot;home&quot;</td><td>null</td><td>null</td><td>12</td><td>-4</td><td>-2</td><td>1</td><td>32</td><td>41</td><td>13.333333</td></tr></tbody></table></div>"
      ],
      "text/plain": [
       "shape: (2048, 18)\n",
       "┌────────┬───────┬─────────────┬────────────┬───┬────────────┬────────────┬────────────┬───────────┐\n",
       "│ season ┆ round ┆ venue       ┆ date       ┆ … ┆ prime_marg ┆ prime_marg ┆ prime_marg ┆ pm_l6w    │\n",
       "│ ---    ┆ ---   ┆ ---         ┆ ---        ┆   ┆ in_4       ┆ in_5       ┆ in_6       ┆ ---       │\n",
       "│ i64    ┆ i64   ┆ cat         ┆ date       ┆   ┆ ---        ┆ ---        ┆ ---        ┆ f64       │\n",
       "│        ┆       ┆             ┆            ┆   ┆ i16        ┆ i16        ┆ i16        ┆           │\n",
       "╞════════╪═══════╪═════════════╪════════════╪═══╪════════════╪════════════╪════════════╪═══════════╡\n",
       "│ 2018   ┆ 1     ┆ Optus       ┆ 2018-03-10 ┆ … ┆ null       ┆ null       ┆ null       ┆ null      │\n",
       "│        ┆       ┆ Stadium,    ┆            ┆   ┆            ┆            ┆            ┆           │\n",
       "│        ┆       ┆ Perth       ┆            ┆   ┆            ┆            ┆            ┆           │\n",
       "│ 2018   ┆ 1     ┆ Optus       ┆ 2018-03-10 ┆ … ┆ null       ┆ null       ┆ null       ┆ null      │\n",
       "│        ┆       ┆ Stadium,    ┆            ┆   ┆            ┆            ┆            ┆           │\n",
       "│        ┆       ┆ Perth       ┆            ┆   ┆            ┆            ┆            ┆           │\n",
       "│ 2018   ┆ 1     ┆ Optus       ┆ 2018-03-10 ┆ … ┆ null       ┆ null       ┆ null       ┆ null      │\n",
       "│        ┆       ┆ Stadium,    ┆            ┆   ┆            ┆            ┆            ┆           │\n",
       "│        ┆       ┆ Perth       ┆            ┆   ┆            ┆            ┆            ┆           │\n",
       "│ 2018   ┆ 1     ┆ McDonald    ┆ 2018-03-09 ┆ … ┆ null       ┆ null       ┆ null       ┆ null      │\n",
       "│        ┆       ┆ Jones       ┆            ┆   ┆            ┆            ┆            ┆           │\n",
       "│        ┆       ┆ Stadium,    ┆            ┆   ┆            ┆            ┆            ┆           │\n",
       "│        ┆       ┆ Newcastl…   ┆            ┆   ┆            ┆            ┆            ┆           │\n",
       "│ …      ┆ …     ┆ …           ┆ …          ┆ … ┆ …          ┆ …          ┆ …          ┆ …         │\n",
       "│ 2023   ┆ 11    ┆ 4 Pines     ┆ 2023-05-14 ┆ … ┆ 10         ┆ -2         ┆ -2         ┆ 6.166667  │\n",
       "│        ┆       ┆ Park,       ┆            ┆   ┆            ┆            ┆            ┆           │\n",
       "│        ┆       ┆ Sydney      ┆            ┆   ┆            ┆            ┆            ┆           │\n",
       "│ 2023   ┆ 11    ┆ Queensland  ┆ 2023-05-13 ┆ … ┆ -6         ┆ -2         ┆ 26         ┆ 2.166667  │\n",
       "│        ┆       ┆ Country     ┆            ┆   ┆            ┆            ┆            ┆           │\n",
       "│        ┆       ┆ Bank        ┆            ┆   ┆            ┆            ┆            ┆           │\n",
       "│        ┆       ┆ Stadium,…   ┆            ┆   ┆            ┆            ┆            ┆           │\n",
       "│ 2023   ┆ 11    ┆ 4 Pines     ┆ 2023-05-14 ┆ … ┆ 10         ┆ -32        ┆ 0          ┆ -9.666667 │\n",
       "│        ┆       ┆ Park,       ┆            ┆   ┆            ┆            ┆            ┆           │\n",
       "│        ┆       ┆ Sydney      ┆            ┆   ┆            ┆            ┆            ┆           │\n",
       "│ 2023   ┆ 11    ┆ BlueBet     ┆ 2023-05-12 ┆ … ┆ 1          ┆ 32         ┆ 41         ┆ 13.333333 │\n",
       "│        ┆       ┆ Stadium,    ┆            ┆   ┆            ┆            ┆            ┆           │\n",
       "│        ┆       ┆ Penrith     ┆            ┆   ┆            ┆            ┆            ┆           │\n",
       "└────────┴───────┴─────────────┴────────────┴───┴────────────┴────────────┴────────────┴───────────┘"
      ]
     },
     "execution_count": 13,
     "metadata": {},
     "output_type": "execute_result"
    }
   ],
   "source": [
    "feature_df.sort(['season', 'round'])"
   ]
  },
  {
   "cell_type": "code",
   "execution_count": 14,
   "metadata": {},
   "outputs": [
    {
     "data": {
      "text/html": [
       "<div><style>\n",
       ".dataframe > thead > tr > th,\n",
       ".dataframe > tbody > tr > td {\n",
       "  text-align: right;\n",
       "}\n",
       "</style>\n",
       "<small>shape: (192, 18)</small><table border=\"1\" class=\"dataframe\"><thead><tr><th>season</th><th>round</th><th>venue</th><th>date</th><th>prime_team</th><th>prime_team_points</th><th>opt_team</th><th>opt_team_points</th><th>home_away</th><th>prime_margin</th><th>result</th><th>prime_margin_1</th><th>prime_margin_2</th><th>prime_margin_3</th><th>prime_margin_4</th><th>prime_margin_5</th><th>prime_margin_6</th><th>pm_l6w</th></tr><tr><td>i64</td><td>i64</td><td>cat</td><td>date</td><td>cat</td><td>i16</td><td>cat</td><td>i16</td><td>cat</td><td>i16</td><td>i16</td><td>i16</td><td>i16</td><td>i16</td><td>i16</td><td>i16</td><td>i16</td><td>f64</td></tr></thead><tbody><tr><td>2023</td><td>1</td><td>&quot;PointsBet Stad…</td><td>2023-03-04</td><td>&quot;Rabbitohs&quot;</td><td>27</td><td>&quot;Sharks&quot;</td><td>18</td><td>&quot;away&quot;</td><td>9</td><td>1</td><td>-10</td><td>10</td><td>-4</td><td>26</td><td>38</td><td>-1</td><td>9.833333</td></tr><tr><td>2023</td><td>2</td><td>&quot;BlueBet Stadiu…</td><td>2023-03-09</td><td>&quot;Rabbitohs&quot;</td><td>10</td><td>&quot;Panthers&quot;</td><td>16</td><td>&quot;away&quot;</td><td>-6</td><td>-1</td><td>9</td><td>-10</td><td>10</td><td>-4</td><td>26</td><td>38</td><td>11.5</td></tr><tr><td>2023</td><td>3</td><td>&quot;Allianz Stadiu…</td><td>2023-03-17</td><td>&quot;Rabbitohs&quot;</td><td>18</td><td>&quot;Roosters&quot;</td><td>20</td><td>&quot;away&quot;</td><td>-2</td><td>-1</td><td>-6</td><td>9</td><td>-10</td><td>10</td><td>-4</td><td>26</td><td>4.166667</td></tr><tr><td>2023</td><td>4</td><td>&quot;Accor Stadium,…</td><td>2023-03-25</td><td>&quot;Rabbitohs&quot;</td><td>13</td><td>&quot;Sea Eagles&quot;</td><td>12</td><td>&quot;home&quot;</td><td>1</td><td>1</td><td>-2</td><td>-6</td><td>9</td><td>-10</td><td>10</td><td>-4</td><td>-0.5</td></tr><tr><td>2023</td><td>5</td><td>&quot;Accor Stadium,…</td><td>2023-03-31</td><td>&quot;Rabbitohs&quot;</td><td>10</td><td>&quot;Storm&quot;</td><td>18</td><td>&quot;home&quot;</td><td>-8</td><td>-1</td><td>1</td><td>-2</td><td>-6</td><td>9</td><td>-10</td><td>10</td><td>0.333333</td></tr><tr><td>2023</td><td>5</td><td>&quot;Accor Stadium,…</td><td>2023-03-31</td><td>&quot;Rabbitohs&quot;</td><td>10</td><td>&quot;Storm&quot;</td><td>18</td><td>&quot;home&quot;</td><td>-8</td><td>-1</td><td>-8</td><td>1</td><td>-2</td><td>-6</td><td>9</td><td>-10</td><td>-2.666667</td></tr><tr><td>2023</td><td>6</td><td>&quot;Accor Stadium,…</td><td>2023-04-07</td><td>&quot;Rabbitohs&quot;</td><td>50</td><td>&quot;Bulldogs&quot;</td><td>16</td><td>&quot;away&quot;</td><td>34</td><td>1</td><td>-8</td><td>-8</td><td>1</td><td>-2</td><td>-6</td><td>9</td><td>-2.333333</td></tr><tr><td>2023</td><td>7</td><td>&quot;Suncorp Stadiu…</td><td>2023-04-13</td><td>&quot;Rabbitohs&quot;</td><td>36</td><td>&quot;Dolphins&quot;</td><td>14</td><td>&quot;away&quot;</td><td>22</td><td>1</td><td>34</td><td>-8</td><td>-8</td><td>1</td><td>-2</td><td>-6</td><td>1.833333</td></tr><tr><td>2023</td><td>8</td><td>&quot;Accor Stadium,…</td><td>2023-04-20</td><td>&quot;Rabbitohs&quot;</td><td>20</td><td>&quot;Panthers&quot;</td><td>18</td><td>&quot;home&quot;</td><td>2</td><td>1</td><td>22</td><td>34</td><td>-8</td><td>-8</td><td>1</td><td>-2</td><td>6.5</td></tr><tr><td>2023</td><td>9</td><td>&quot;Suncorp Stadiu…</td><td>2023-04-28</td><td>&quot;Rabbitohs&quot;</td><td>32</td><td>&quot;Broncos&quot;</td><td>6</td><td>&quot;away&quot;</td><td>26</td><td>1</td><td>2</td><td>22</td><td>34</td><td>-8</td><td>-8</td><td>1</td><td>7.166667</td></tr><tr><td>2023</td><td>10</td><td>&quot;Suncorp Stadiu…</td><td>2023-05-06</td><td>&quot;Rabbitohs&quot;</td><td>28</td><td>&quot;Storm&quot;</td><td>12</td><td>&quot;away&quot;</td><td>16</td><td>1</td><td>26</td><td>2</td><td>22</td><td>34</td><td>-8</td><td>-8</td><td>11.333333</td></tr><tr><td>2023</td><td>11</td><td>&quot;Accor Stadium,…</td><td>2023-05-13</td><td>&quot;Rabbitohs&quot;</td><td>null</td><td>&quot;Wests Tigers&quot;</td><td>null</td><td>&quot;home&quot;</td><td>null</td><td>null</td><td>16</td><td>26</td><td>2</td><td>22</td><td>34</td><td>-8</td><td>15.333333</td></tr><tr><td>&hellip;</td><td>&hellip;</td><td>&hellip;</td><td>&hellip;</td><td>&hellip;</td><td>&hellip;</td><td>&hellip;</td><td>&hellip;</td><td>&hellip;</td><td>&hellip;</td><td>&hellip;</td><td>&hellip;</td><td>&hellip;</td><td>&hellip;</td><td>&hellip;</td><td>&hellip;</td><td>&hellip;</td><td>&hellip;</td></tr><tr><td>2023</td><td>11</td><td>&quot;BlueBet Stadiu…</td><td>2023-05-12</td><td>&quot;Panthers&quot;</td><td>null</td><td>&quot;Roosters&quot;</td><td>null</td><td>&quot;home&quot;</td><td>null</td><td>null</td><td>12</td><td>-4</td><td>-2</td><td>1</td><td>32</td><td>41</td><td>13.333333</td></tr><tr><td>2023</td><td>1</td><td>&quot;Suncorp Stadiu…</td><td>2023-03-05</td><td>&quot;Dolphins&quot;</td><td>28</td><td>&quot;Roosters&quot;</td><td>18</td><td>&quot;home&quot;</td><td>10</td><td>1</td><td>null</td><td>null</td><td>null</td><td>null</td><td>null</td><td>null</td><td>null</td></tr><tr><td>2023</td><td>2</td><td>&quot;Kayo Stadium, …</td><td>2023-03-11</td><td>&quot;Dolphins&quot;</td><td>20</td><td>&quot;Raiders&quot;</td><td>14</td><td>&quot;home&quot;</td><td>6</td><td>1</td><td>10</td><td>null</td><td>null</td><td>null</td><td>null</td><td>null</td><td>10.0</td></tr><tr><td>2023</td><td>3</td><td>&quot;McDonald Jones…</td><td>2023-03-17</td><td>&quot;Dolphins&quot;</td><td>36</td><td>&quot;Knights&quot;</td><td>20</td><td>&quot;away&quot;</td><td>16</td><td>1</td><td>6</td><td>10</td><td>null</td><td>null</td><td>null</td><td>null</td><td>8.0</td></tr><tr><td>2023</td><td>4</td><td>&quot;Suncorp Stadiu…</td><td>2023-03-24</td><td>&quot;Dolphins&quot;</td><td>12</td><td>&quot;Broncos&quot;</td><td>18</td><td>&quot;home&quot;</td><td>-6</td><td>-1</td><td>16</td><td>6</td><td>10</td><td>null</td><td>null</td><td>null</td><td>10.666667</td></tr><tr><td>2023</td><td>5</td><td>&quot;WIN Stadium, W…</td><td>2023-04-01</td><td>&quot;Dolphins&quot;</td><td>12</td><td>&quot;Dragons&quot;</td><td>38</td><td>&quot;away&quot;</td><td>-26</td><td>-1</td><td>-6</td><td>16</td><td>6</td><td>10</td><td>null</td><td>null</td><td>6.5</td></tr><tr><td>2023</td><td>5</td><td>&quot;WIN Stadium, W…</td><td>2023-04-01</td><td>&quot;Dolphins&quot;</td><td>12</td><td>&quot;Dragons&quot;</td><td>38</td><td>&quot;away&quot;</td><td>-26</td><td>-1</td><td>-26</td><td>-6</td><td>16</td><td>6</td><td>10</td><td>null</td><td>0.0</td></tr><tr><td>2023</td><td>6</td><td>&quot;Queensland Cou…</td><td>2023-04-07</td><td>&quot;Dolphins&quot;</td><td>32</td><td>&quot;Cowboys&quot;</td><td>22</td><td>&quot;away&quot;</td><td>10</td><td>1</td><td>-26</td><td>-26</td><td>-6</td><td>16</td><td>6</td><td>10</td><td>-4.333333</td></tr><tr><td>2023</td><td>7</td><td>&quot;Suncorp Stadiu…</td><td>2023-04-13</td><td>&quot;Dolphins&quot;</td><td>14</td><td>&quot;Rabbitohs&quot;</td><td>36</td><td>&quot;home&quot;</td><td>-22</td><td>-1</td><td>10</td><td>-26</td><td>-26</td><td>-6</td><td>16</td><td>6</td><td>-4.333333</td></tr><tr><td>2023</td><td>8</td><td>&quot;Suncorp Stadiu…</td><td>2023-04-23</td><td>&quot;Dolphins&quot;</td><td>28</td><td>&quot;Titans&quot;</td><td>26</td><td>&quot;home&quot;</td><td>2</td><td>1</td><td>-22</td><td>10</td><td>-26</td><td>-26</td><td>-6</td><td>16</td><td>-9.0</td></tr><tr><td>2023</td><td>9</td><td>&quot;McDonalds Park…</td><td>2023-04-29</td><td>&quot;Dolphins&quot;</td><td>30</td><td>&quot;Raiders&quot;</td><td>31</td><td>&quot;away&quot;</td><td>-1</td><td>-1</td><td>2</td><td>-22</td><td>10</td><td>-26</td><td>-26</td><td>-6</td><td>-11.333333</td></tr><tr><td>2023</td><td>10</td><td>&quot;Suncorp Stadiu…</td><td>2023-05-06</td><td>&quot;Dolphins&quot;</td><td>36</td><td>&quot;Sharks&quot;</td><td>16</td><td>&quot;away&quot;</td><td>20</td><td>1</td><td>-1</td><td>2</td><td>-22</td><td>10</td><td>-26</td><td>-26</td><td>-10.5</td></tr></tbody></table></div>"
      ],
      "text/plain": [
       "shape: (192, 18)\n",
       "┌────────┬───────┬────────────┬────────────┬───┬────────────┬────────────┬────────────┬────────────┐\n",
       "│ season ┆ round ┆ venue      ┆ date       ┆ … ┆ prime_marg ┆ prime_marg ┆ prime_marg ┆ pm_l6w     │\n",
       "│ ---    ┆ ---   ┆ ---        ┆ ---        ┆   ┆ in_4       ┆ in_5       ┆ in_6       ┆ ---        │\n",
       "│ i64    ┆ i64   ┆ cat        ┆ date       ┆   ┆ ---        ┆ ---        ┆ ---        ┆ f64        │\n",
       "│        ┆       ┆            ┆            ┆   ┆ i16        ┆ i16        ┆ i16        ┆            │\n",
       "╞════════╪═══════╪════════════╪════════════╪═══╪════════════╪════════════╪════════════╪════════════╡\n",
       "│ 2023   ┆ 1     ┆ PointsBet  ┆ 2023-03-04 ┆ … ┆ 26         ┆ 38         ┆ -1         ┆ 9.833333   │\n",
       "│        ┆       ┆ Stadium,   ┆            ┆   ┆            ┆            ┆            ┆            │\n",
       "│        ┆       ┆ Sydney     ┆            ┆   ┆            ┆            ┆            ┆            │\n",
       "│ 2023   ┆ 2     ┆ BlueBet    ┆ 2023-03-09 ┆ … ┆ -4         ┆ 26         ┆ 38         ┆ 11.5       │\n",
       "│        ┆       ┆ Stadium,   ┆            ┆   ┆            ┆            ┆            ┆            │\n",
       "│        ┆       ┆ Penrith    ┆            ┆   ┆            ┆            ┆            ┆            │\n",
       "│ 2023   ┆ 3     ┆ Allianz    ┆ 2023-03-17 ┆ … ┆ 10         ┆ -4         ┆ 26         ┆ 4.166667   │\n",
       "│        ┆       ┆ Stadium,   ┆            ┆   ┆            ┆            ┆            ┆            │\n",
       "│        ┆       ┆ Sydney     ┆            ┆   ┆            ┆            ┆            ┆            │\n",
       "│ 2023   ┆ 4     ┆ Accor      ┆ 2023-03-25 ┆ … ┆ -10        ┆ 10         ┆ -4         ┆ -0.5       │\n",
       "│        ┆       ┆ Stadium,   ┆            ┆   ┆            ┆            ┆            ┆            │\n",
       "│        ┆       ┆ Sydney     ┆            ┆   ┆            ┆            ┆            ┆            │\n",
       "│ …      ┆ …     ┆ …          ┆ …          ┆ … ┆ …          ┆ …          ┆ …          ┆ …          │\n",
       "│ 2023   ┆ 7     ┆ Suncorp    ┆ 2023-04-13 ┆ … ┆ -6         ┆ 16         ┆ 6          ┆ -4.333333  │\n",
       "│        ┆       ┆ Stadium,   ┆            ┆   ┆            ┆            ┆            ┆            │\n",
       "│        ┆       ┆ Brisbane   ┆            ┆   ┆            ┆            ┆            ┆            │\n",
       "│ 2023   ┆ 8     ┆ Suncorp    ┆ 2023-04-23 ┆ … ┆ -26        ┆ -6         ┆ 16         ┆ -9.0       │\n",
       "│        ┆       ┆ Stadium,   ┆            ┆   ┆            ┆            ┆            ┆            │\n",
       "│        ┆       ┆ Brisbane   ┆            ┆   ┆            ┆            ┆            ┆            │\n",
       "│ 2023   ┆ 9     ┆ McDonalds  ┆ 2023-04-29 ┆ … ┆ -26        ┆ -26        ┆ -6         ┆ -11.333333 │\n",
       "│        ┆       ┆ Park,      ┆            ┆   ┆            ┆            ┆            ┆            │\n",
       "│        ┆       ┆ Wagga      ┆            ┆   ┆            ┆            ┆            ┆            │\n",
       "│        ┆       ┆ Wagga      ┆            ┆   ┆            ┆            ┆            ┆            │\n",
       "│ 2023   ┆ 10    ┆ Suncorp    ┆ 2023-05-06 ┆ … ┆ 10         ┆ -26        ┆ -26        ┆ -10.5      │\n",
       "│        ┆       ┆ Stadium,   ┆            ┆   ┆            ┆            ┆            ┆            │\n",
       "│        ┆       ┆ Brisbane   ┆            ┆   ┆            ┆            ┆            ┆            │\n",
       "└────────┴───────┴────────────┴────────────┴───┴────────────┴────────────┴────────────┴────────────┘"
      ]
     },
     "execution_count": 14,
     "metadata": {},
     "output_type": "execute_result"
    }
   ],
   "source": [
    "feature_df.filter(pl.col('season') == 2023)"
   ]
  },
  {
   "cell_type": "code",
   "execution_count": null,
   "metadata": {},
   "outputs": [],
   "source": []
  },
  {
   "cell_type": "code",
   "execution_count": null,
   "metadata": {},
   "outputs": [],
   "source": []
  },
  {
   "cell_type": "code",
   "execution_count": null,
   "metadata": {},
   "outputs": [],
   "source": []
  }
 ],
 "metadata": {
  "kernelspec": {
   "display_name": "nrl_scraper",
   "language": "python",
   "name": "python3"
  },
  "language_info": {
   "codemirror_mode": {
    "name": "ipython",
    "version": 3
   },
   "file_extension": ".py",
   "mimetype": "text/x-python",
   "name": "python",
   "nbconvert_exporter": "python",
   "pygments_lexer": "ipython3",
   "version": "3.10.8"
  },
  "vscode": {
   "interpreter": {
    "hash": "4cb9325627e8d3391e17c1b71c9052d11b42d7959d4271a59d9ac7f9268cc4f3"
   }
  }
 },
 "nbformat": 4,
 "nbformat_minor": 4
}
